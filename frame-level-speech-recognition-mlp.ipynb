{
 "cells": [
  {
   "cell_type": "markdown",
   "metadata": {
    "id": "F9ERgBpbcMmB"
   },
   "source": [
    "# Frame-Level Speech Recognition with Multilayer Perceptron"
   ]
  },
  {
   "cell_type": "markdown",
   "metadata": {
    "id": "CLkH6GMGcWcE"
   },
   "source": [
    "In this project, we will be working with MFCC data consisting of 28 features at each time step/frame. The model will be used to recognize the phoneme occured in that frame. After completion it will be submitted to the [\"11785 HW1P2 Fall 2024\" competition\"](https://www.kaggle.com/competitions/11785-hw1p2-f24/overview).\n",
    "\n",
    "\n",
    "\n",
    "This project was completed according to the first homework in Carnegie Mellon University's CMU 11-785: Deep Learning course."
   ]
  },
  {
   "cell_type": "markdown",
   "metadata": {
    "id": "z4vZbDmJvMp1"
   },
   "source": [
    "# Libraries"
   ]
  },
  {
   "cell_type": "code",
   "execution_count": 1,
   "metadata": {
    "execution": {
     "iopub.execute_input": "2025-01-15T13:41:45.749832Z",
     "iopub.status.busy": "2025-01-15T13:41:45.749533Z",
     "iopub.status.idle": "2025-01-15T13:41:50.103079Z",
     "shell.execute_reply": "2025-01-15T13:41:50.102151Z",
     "shell.execute_reply.started": "2025-01-15T13:41:45.749808Z"
    },
    "id": "rwYu9sSUnSho",
    "trusted": true
   },
   "outputs": [],
   "source": [
    "!pip install torchsummaryX==1.1.0 wandb --quiet"
   ]
  },
  {
   "cell_type": "code",
   "execution_count": 2,
   "metadata": {
    "colab": {
     "base_uri": "https://localhost:8080/"
    },
    "execution": {
     "iopub.execute_input": "2025-01-15T13:41:50.104793Z",
     "iopub.status.busy": "2025-01-15T13:41:50.104456Z",
     "iopub.status.idle": "2025-01-15T13:41:57.167542Z",
     "shell.execute_reply": "2025-01-15T13:41:57.166650Z",
     "shell.execute_reply.started": "2025-01-15T13:41:50.104760Z"
    },
    "id": "qI4qfx7tiBZt",
    "outputId": "ef79a3fc-5689-4e5a-d896-329b8a9d6a5c",
    "trusted": true
   },
   "outputs": [
    {
     "name": "stdout",
     "output_type": "stream",
     "text": [
      "Device:  cuda\n"
     ]
    }
   ],
   "source": [
    "import torch\n",
    "import numpy as np\n",
    "from torchsummaryX import summary\n",
    "import sklearn\n",
    "import gc\n",
    "import zipfile\n",
    "import pandas as pd\n",
    "from tqdm.auto import tqdm\n",
    "import os\n",
    "import datetime\n",
    "import wandb\n",
    "device = 'cuda' if torch.cuda.is_available() else 'cpu'\n",
    "print(\"Device: \", device)"
   ]
  },
  {
   "cell_type": "code",
   "execution_count": 3,
   "metadata": {
    "execution": {
     "iopub.execute_input": "2025-01-15T13:41:57.169500Z",
     "iopub.status.busy": "2025-01-15T13:41:57.169259Z",
     "iopub.status.idle": "2025-01-15T13:42:08.202219Z",
     "shell.execute_reply": "2025-01-15T13:42:08.201531Z",
     "shell.execute_reply.started": "2025-01-15T13:41:57.169479Z"
    },
    "id": "N-9qE20hmCgQ",
    "trusted": true
   },
   "outputs": [
    {
     "name": "stdout",
     "output_type": "stream",
     "text": [
      "Please enter your wandb API key:  a35a4beb5d7e2e112211e9cd7e103b10585e3132\n"
     ]
    },
    {
     "name": "stderr",
     "output_type": "stream",
     "text": [
      "\u001b[34m\u001b[1mwandb\u001b[0m: Using wandb-core as the SDK backend.  Please refer to https://wandb.me/wandb-core for more information.\n",
      "\u001b[34m\u001b[1mwandb\u001b[0m: Currently logged in as: \u001b[33mmobin-roohi\u001b[0m (\u001b[33mmobin-roohi-university-of-tehran\u001b[0m). Use \u001b[1m`wandb login --relogin`\u001b[0m to force relogin\n",
      "\u001b[34m\u001b[1mwandb\u001b[0m: \u001b[33mWARNING\u001b[0m If you're specifying your api key in code, ensure this code is not shared publicly.\n",
      "\u001b[34m\u001b[1mwandb\u001b[0m: \u001b[33mWARNING\u001b[0m Consider setting the WANDB_API_KEY environment variable, or running `wandb login` from the command line.\n",
      "\u001b[34m\u001b[1mwandb\u001b[0m: Appending key for api.wandb.ai to your netrc file: /root/.netrc\n"
     ]
    },
    {
     "data": {
      "text/plain": [
       "True"
      ]
     },
     "execution_count": 3,
     "metadata": {},
     "output_type": "execute_result"
    }
   ],
   "source": [
    "### PHONEME LIST\n",
    "PHONEMES = [\n",
    "            '[SIL]',   'AA',    'AE',    'AH',    'AO',    'AW',    'AY',\n",
    "            'B',     'CH',    'D',     'DH',    'EH',    'ER',    'EY',\n",
    "            'F',     'G',     'HH',    'IH',    'IY',    'JH',    'K',\n",
    "            'L',     'M',     'N',     'NG',    'OW',    'OY',    'P',\n",
    "            'R',     'S',     'SH',    'T',     'TH',    'UH',    'UW',\n",
    "            'V',     'W',     'Y',     'Z',     'ZH',    '[SOS]', '[EOS]']\n",
    "\n",
    "wandb.login(key=input(\"Please enter your wandb API key: \")) "
   ]
  },
  {
   "cell_type": "markdown",
   "metadata": {
    "id": "Vuzce0_TdcaR"
   },
   "source": [
    "# Dataset Class"
   ]
  },
  {
   "cell_type": "code",
   "execution_count": 4,
   "metadata": {
    "execution": {
     "iopub.execute_input": "2025-01-15T13:42:08.203685Z",
     "iopub.status.busy": "2025-01-15T13:42:08.203216Z",
     "iopub.status.idle": "2025-01-15T13:42:08.213644Z",
     "shell.execute_reply": "2025-01-15T13:42:08.212818Z",
     "shell.execute_reply.started": "2025-01-15T13:42:08.203660Z"
    },
    "id": "YpLCvi3AJC5z",
    "trusted": true
   },
   "outputs": [],
   "source": [
    "# Dataset class to load train and validation data\n",
    "\n",
    "class AudioDataset(torch.utils.data.Dataset):\n",
    "\n",
    "    def __init__(self, root, phonemes = PHONEMES, context=0, partition= \"train-clean-100\"): \n",
    "        self.context = context\n",
    "        self.phonemes = phonemes\n",
    "\n",
    "        # MFCC directory\n",
    "        self.mfcc_dir = os.path.join(root, partition, 'mfcc')\n",
    "        \n",
    "        # Transcripts directory\n",
    "        self.transcript_dir = os.path.join(root, partition, 'transcript')\n",
    "\n",
    "        # List of MFCC and transcript files\n",
    "        mfcc_names = sorted(os.listdir(self.mfcc_dir))\n",
    "        transcript_names = sorted(os.listdir(self.transcript_dir))\n",
    "        assert len(mfcc_names) == len(transcript_names)\n",
    "\n",
    "        self.mfccs, self.transcripts = [], []\n",
    "\n",
    "        for i in range(len(mfcc_names)):\n",
    "            if i % 1000 == 0: \n",
    "                print(f\"Data {i} / {len(mfcc_names)}\")\n",
    "            # Load a single mfcc\n",
    "            mfcc = np.load(os.path.join(self.mfcc_dir, mfcc_names[i]))\n",
    "    \n",
    "            # Cepstral normalization\n",
    "            mfcc_norm = self.cepstral_normalization(mfcc)\n",
    "                    \n",
    "            # Load the corresponding transcript and removing [SOS] and [EOS]\n",
    "            transcript = np.load(os.path.join(self.transcript_dir, transcript_names[i]))[1:-1]\n",
    "            \n",
    "            # Save the preprocessed MFFCs and transcripts\n",
    "            self.mfccs.append(mfcc_norm)\n",
    "            self.transcripts.append(transcript)\n",
    "\n",
    "        # Concatenate all mfccs \n",
    "        self.mfccs = np.vstack(self.mfccs)\n",
    "\n",
    "        # Concatenate all transcripts \n",
    "        self.transcripts = np.concatenate(self.transcripts, axis=0)\n",
    "\n",
    "        # Length of the dataset is now the length of concatenated mfccs/transcripts\n",
    "        self.length = len(self.mfccs)\n",
    "\n",
    "        # We can introduce context by padding zeros on top and bottom of self.mfcc\n",
    "        zero_padding = np.zeros((self.context, 28))\n",
    "        self.mfccs = np.vstack([zero_padding, self.mfccs, zero_padding])\n",
    "\n",
    "        # Map transcripts to id integers using phonemes list\n",
    "        encoding_dict = {string : idx for idx, string in enumerate(phonemes)}\n",
    "        self.transcripts = np.array([encoding_dict[t] for t in self.transcripts])\n",
    "\n",
    "    def __len__(self):\n",
    "        return self.length\n",
    "\n",
    "    def __getitem__(self, ind):\n",
    "        # Frame with context frames to the left, and right\n",
    "        frames = self.mfccs[ind : ind + 2 * self.context + 1, :]\n",
    "        \n",
    "        # After slicing, the array has a of shape 2*context+1 x 28. But MLP requires 1d data and not 2d.\n",
    "        frames = frames.flatten()\n",
    "\n",
    "        # Convert to tensors\n",
    "        frames = torch.FloatTensor(frames)\n",
    "        phonemes = torch.tensor(self.transcripts[ind])\n",
    "\n",
    "        return frames, phonemes\n",
    "\n",
    "    def cepstral_normalization(self, mfcc):\n",
    "        # Mean and standard deviation\n",
    "        mean = np.mean(mfcc, axis = 0)\n",
    "        std = np.std(mfcc, axis = 0) + 1e-8\n",
    "\n",
    "        # Normalize\n",
    "        mfcc_norm = (mfcc - mean) / std\n",
    "\n",
    "        return mfcc_norm"
   ]
  },
  {
   "cell_type": "code",
   "execution_count": 5,
   "metadata": {
    "execution": {
     "iopub.execute_input": "2025-01-15T13:42:08.214682Z",
     "iopub.status.busy": "2025-01-15T13:42:08.214394Z",
     "iopub.status.idle": "2025-01-15T13:42:08.233894Z",
     "shell.execute_reply": "2025-01-15T13:42:08.233138Z",
     "shell.execute_reply.started": "2025-01-15T13:42:08.214660Z"
    },
    "id": "e8KfVP39S6o7",
    "trusted": true
   },
   "outputs": [],
   "source": [
    "# Dataset class to load test data (without transcripts)\n",
    "\n",
    "class AudioTestDataset(torch.utils.data.Dataset):\n",
    "\n",
    "    def __init__(self, root, phonemes = PHONEMES, context=0, partition= \"test-clean\"): \n",
    "        self.context = context\n",
    "        self.phonemes = phonemes\n",
    "\n",
    "        # MFCC directory\n",
    "        self.mfcc_dir = os.path.join(root, partition, 'mfcc')\n",
    "\n",
    "        # List of MFCC files\n",
    "        mfcc_names = sorted(os.listdir(self.mfcc_dir))\n",
    "\n",
    "        self.mfccs = []\n",
    "\n",
    "        for i in range(len(mfcc_names)):\n",
    "            # Load a single mfcc\n",
    "            mfcc = np.load(os.path.join(self.mfcc_dir, mfcc_names[i]))\n",
    "    \n",
    "            # Cepstral normalization\n",
    "            mfcc_norm = self.cepstral_normalization(mfcc)\n",
    "            \n",
    "            # Save the preprocessed MFFCs\n",
    "            self.mfccs.append(mfcc_norm)\n",
    "\n",
    "        # Concatenate all mfccs \n",
    "        self.mfccs = np.vstack(self.mfccs)\n",
    "\n",
    "        # Length of the dataset is now the length of concatenated mfccs\n",
    "        self.length = len(self.mfccs)\n",
    "\n",
    "        # We can introduce context by padding zeros on top and bottom of self.mfcc\n",
    "        zero_padding = np.zeros((self.context, 28))\n",
    "        self.mfccs = np.vstack([zero_padding, self.mfccs, zero_padding])\n",
    "\n",
    "    def __len__(self):\n",
    "        return self.length\n",
    "\n",
    "    def __getitem__(self, ind):\n",
    "        # Frame with context frames to the left, and right\n",
    "        frames = self.mfccs[ind : ind + 2 * self.context + 1, :]\n",
    "        \n",
    "        # After slicing, the array has a of shape 2*context+1 x 28. But MLP requires 1d data and not 2d.\n",
    "        frames = frames.flatten()\n",
    "\n",
    "        # Convert to tensors\n",
    "        frames = torch.FloatTensor(frames)\n",
    "\n",
    "        return frames\n",
    "\n",
    "    def cepstral_normalization(self, mfcc):\n",
    "        # Mean and standard deviation\n",
    "        mean = np.mean(mfcc, axis = 0)\n",
    "        std = np.std(mfcc, axis = 0) + 1e-8\n",
    "\n",
    "        # Normalize\n",
    "        mfcc_norm = (mfcc - mean) / std\n",
    "\n",
    "        return mfcc_norm"
   ]
  },
  {
   "cell_type": "markdown",
   "metadata": {
    "id": "qNacQ8bpt9nw"
   },
   "source": [
    "# Parameters Configuration"
   ]
  },
  {
   "cell_type": "markdown",
   "metadata": {
    "id": "WE7tsinAuLNy"
   },
   "source": [
    "We store the parameters and hyperparameters in a single configuration dictionary to make it easier to keep track of them during each experiment. It can also be used with weights and biases to log the parameters for each experiment and keep track of them across multiple experiments."
   ]
  },
  {
   "cell_type": "code",
   "execution_count": 6,
   "metadata": {
    "execution": {
     "iopub.execute_input": "2025-01-15T13:42:08.234692Z",
     "iopub.status.busy": "2025-01-15T13:42:08.234475Z",
     "iopub.status.idle": "2025-01-15T13:42:08.252186Z",
     "shell.execute_reply": "2025-01-15T13:42:08.251384Z",
     "shell.execute_reply.started": "2025-01-15T13:42:08.234673Z"
    },
    "id": "PmKwlFqgt_Zq",
    "trusted": true
   },
   "outputs": [],
   "source": [
    "config = {\n",
    "    'epochs'        : 2,\n",
    "    'batch_size'    : 1024,\n",
    "    'context'       : 20,\n",
    "    'init_lr'       : 1e-3,\n",
    "    'architecture'  : 'initial-stage'\n",
    "    # Add more as needed - e.g dropout values, weight decay, scheduler parameters\n",
    "}"
   ]
  },
  {
   "cell_type": "markdown",
   "metadata": {
    "id": "2mlwaKlDt_2c"
   },
   "source": [
    "# Create Datasets"
   ]
  },
  {
   "cell_type": "code",
   "execution_count": 7,
   "metadata": {
    "execution": {
     "iopub.execute_input": "2025-01-15T13:42:08.253071Z",
     "iopub.status.busy": "2025-01-15T13:42:08.252884Z",
     "iopub.status.idle": "2025-01-15T13:49:38.779178Z",
     "shell.execute_reply": "2025-01-15T13:49:38.778172Z",
     "shell.execute_reply.started": "2025-01-15T13:42:08.253054Z"
    },
    "id": "7xi7V8x8W9z4",
    "trusted": true
   },
   "outputs": [
    {
     "name": "stdout",
     "output_type": "stream",
     "text": [
      "Data 0 / 28539\n",
      "Data 1000 / 28539\n",
      "Data 2000 / 28539\n",
      "Data 3000 / 28539\n",
      "Data 4000 / 28539\n",
      "Data 5000 / 28539\n",
      "Data 6000 / 28539\n",
      "Data 7000 / 28539\n",
      "Data 8000 / 28539\n",
      "Data 9000 / 28539\n",
      "Data 10000 / 28539\n",
      "Data 11000 / 28539\n",
      "Data 12000 / 28539\n",
      "Data 13000 / 28539\n",
      "Data 14000 / 28539\n",
      "Data 15000 / 28539\n",
      "Data 16000 / 28539\n",
      "Data 17000 / 28539\n",
      "Data 18000 / 28539\n",
      "Data 19000 / 28539\n",
      "Data 20000 / 28539\n",
      "Data 21000 / 28539\n",
      "Data 22000 / 28539\n",
      "Data 23000 / 28539\n",
      "Data 24000 / 28539\n",
      "Data 25000 / 28539\n",
      "Data 26000 / 28539\n",
      "Data 27000 / 28539\n",
      "Data 28000 / 28539\n",
      "Data 0 / 2703\n",
      "Data 1000 / 2703\n",
      "Data 2000 / 2703\n"
     ]
    }
   ],
   "source": [
    "# Train/validation data\n",
    "train_data = AudioDataset(\"/kaggle/input/11785-hw1p2-f24/11785-f24-hw1p2\", phonemes = PHONEMES, context=config[\"context\"], partition=\"train-clean-100\")\n",
    "val_data = AudioDataset(\"/kaggle/input/11785-hw1p2-f24/11785-f24-hw1p2\", phonemes = PHONEMES, context=config[\"context\"], partition=\"dev-clean\")\n",
    "\n",
    "# Test data\n",
    "test_data = AudioTestDataset(\"/kaggle/input/11785-hw1p2-f24/11785-f24-hw1p2\", phonemes = PHONEMES, context=config[\"context\"], partition=\"test-clean\")"
   ]
  },
  {
   "cell_type": "code",
   "execution_count": 8,
   "metadata": {
    "execution": {
     "iopub.execute_input": "2025-01-15T13:49:38.780281Z",
     "iopub.status.busy": "2025-01-15T13:49:38.780039Z",
     "iopub.status.idle": "2025-01-15T13:49:38.788877Z",
     "shell.execute_reply": "2025-01-15T13:49:38.787608Z",
     "shell.execute_reply.started": "2025-01-15T13:49:38.780261Z"
    },
    "id": "4mzoYfTKu14s",
    "trusted": true
   },
   "outputs": [
    {
     "name": "stdout",
     "output_type": "stream",
     "text": [
      "Batch size     :  1024\n",
      "Context        :  20\n",
      "Input size     :  1148\n",
      "Output symbols :  42\n",
      "Train dataset samples = 36091157, batches = 35246\n",
      "Validation dataset samples = 1928204, batches = 1884\n",
      "Test dataset samples = 1934138, batches = 1889\n"
     ]
    }
   ],
   "source": [
    "# Dataloaders for train, val and test datasets\n",
    "\n",
    "train_loader = torch.utils.data.DataLoader(\n",
    "    dataset     = train_data,\n",
    "    num_workers = 4,\n",
    "    batch_size  = config['batch_size'],\n",
    "    pin_memory  = True,\n",
    "    shuffle     = True\n",
    ")\n",
    "\n",
    "val_loader = torch.utils.data.DataLoader(\n",
    "    dataset     = val_data,\n",
    "    num_workers = 2,\n",
    "    batch_size  = config['batch_size'],\n",
    "    pin_memory  = True,\n",
    "    shuffle     = False\n",
    ")\n",
    "\n",
    "test_loader = torch.utils.data.DataLoader(\n",
    "    dataset     = test_data,\n",
    "    num_workers = 2,\n",
    "    batch_size  = config['batch_size'],\n",
    "    pin_memory  = True,\n",
    "    shuffle     = False\n",
    ")\n",
    "\n",
    "\n",
    "print(\"Batch size     : \", config['batch_size'])\n",
    "print(\"Context        : \", config['context'])\n",
    "print(\"Input size     : \", (2*config['context']+1)*28)\n",
    "print(\"Output symbols : \", len(PHONEMES))\n",
    "\n",
    "print(\"Train dataset samples = {}, batches = {}\".format(train_data.__len__(), len(train_loader)))\n",
    "print(\"Validation dataset samples = {}, batches = {}\".format(val_data.__len__(), len(val_loader)))\n",
    "print(\"Test dataset samples = {}, batches = {}\".format(test_data.__len__(), len(test_loader)))"
   ]
  },
  {
   "cell_type": "code",
   "execution_count": 9,
   "metadata": {
    "execution": {
     "iopub.execute_input": "2025-01-15T13:49:38.792200Z",
     "iopub.status.busy": "2025-01-15T13:49:38.791958Z",
     "iopub.status.idle": "2025-01-15T13:49:44.332818Z",
     "shell.execute_reply": "2025-01-15T13:49:44.331933Z",
     "shell.execute_reply.started": "2025-01-15T13:49:38.792154Z"
    },
    "id": "n-GV3UvgLSoF",
    "trusted": true
   },
   "outputs": [
    {
     "name": "stdout",
     "output_type": "stream",
     "text": [
      "torch.Size([1024, 1148]) torch.Size([1024])\n"
     ]
    }
   ],
   "source": [
    "# Testing code to check if the data loaders are working\n",
    "for i, data in enumerate(train_loader):\n",
    "    frames, phoneme = data\n",
    "    print(frames.shape, phoneme.shape)\n",
    "    break"
   ]
  },
  {
   "cell_type": "markdown",
   "metadata": {
    "id": "Nxjwve20JRJ2"
   },
   "source": [
    "# Network Architecture\n"
   ]
  },
  {
   "cell_type": "markdown",
   "metadata": {
    "id": "3NJzT-mRw6iy"
   },
   "source": [
    "This section defines the network architecture for the homework. "
   ]
  },
  {
   "cell_type": "code",
   "execution_count": 10,
   "metadata": {
    "execution": {
     "iopub.execute_input": "2025-01-15T13:49:44.335093Z",
     "iopub.status.busy": "2025-01-15T13:49:44.334850Z",
     "iopub.status.idle": "2025-01-15T13:49:44.339813Z",
     "shell.execute_reply": "2025-01-15T13:49:44.339077Z",
     "shell.execute_reply.started": "2025-01-15T13:49:44.335072Z"
    },
    "id": "OvcpontXQq9j",
    "trusted": true
   },
   "outputs": [],
   "source": [
    "class Network(torch.nn.Module):\n",
    "\n",
    "    def __init__(self, input_size, output_size):\n",
    "\n",
    "        super(Network, self).__init__()\n",
    "\n",
    "        self.model = torch.nn.Sequential(\n",
    "            torch.nn.Linear(input_size, 512),\n",
    "            torch.nn.ReLU(),\n",
    "            torch.nn.Linear(512, output_size)\n",
    "        )\n",
    "\n",
    "    def forward(self, x):\n",
    "        out = self.model(x)\n",
    "\n",
    "        return out"
   ]
  },
  {
   "cell_type": "markdown",
   "metadata": {
    "id": "HejoSXe3vMVU"
   },
   "source": [
    "# Define Model, Loss Function and Optimizer"
   ]
  },
  {
   "cell_type": "markdown",
   "metadata": {
    "id": "xAhGBH7-xxth"
   },
   "source": [
    "Here we define the model, loss function, optimizer and optionally a learning rate scheduler."
   ]
  },
  {
   "cell_type": "code",
   "execution_count": 11,
   "metadata": {
    "execution": {
     "iopub.execute_input": "2025-01-15T13:49:44.340756Z",
     "iopub.status.busy": "2025-01-15T13:49:44.340530Z",
     "iopub.status.idle": "2025-01-15T13:49:44.499603Z",
     "shell.execute_reply": "2025-01-15T13:49:44.498848Z",
     "shell.execute_reply.started": "2025-01-15T13:49:44.340737Z"
    },
    "id": "_qtrEM1ZvLje",
    "trusted": true
   },
   "outputs": [
    {
     "name": "stdout",
     "output_type": "stream",
     "text": [
      "----------------------------------------------------------------------------------------------------\n",
      "Layer                   Kernel Shape         Output Shape         # Params (K)      # Mult-Adds (M)\n",
      "====================================================================================================\n",
      "0_Linear                 [1148, 512]          [1024, 512]               588.29                 0.59\n",
      "1_ReLU                             -          [1024, 512]                    -                    -\n",
      "2_Linear                   [512, 42]           [1024, 42]                21.55                 0.02\n",
      "====================================================================================================\n",
      "# Params:    609.83K\n",
      "# Mult-Adds: 0.61M\n",
      "----------------------------------------------------------------------------------------------------\n"
     ]
    }
   ],
   "source": [
    "INPUT_SIZE  = (2*config['context'] + 1) * 28 \n",
    "model       = Network(INPUT_SIZE, len(train_data.phonemes)).to(device)\n",
    "summary(model, frames.to(device))"
   ]
  },
  {
   "cell_type": "code",
   "execution_count": 12,
   "metadata": {
    "execution": {
     "iopub.execute_input": "2025-01-15T13:49:44.500522Z",
     "iopub.status.busy": "2025-01-15T13:49:44.500310Z",
     "iopub.status.idle": "2025-01-15T13:49:48.279810Z",
     "shell.execute_reply": "2025-01-15T13:49:48.279061Z",
     "shell.execute_reply.started": "2025-01-15T13:49:44.500504Z"
    },
    "id": "UROGEVJevKD-",
    "trusted": true
   },
   "outputs": [],
   "source": [
    "# Defining Loss function.\n",
    "criterion = torch.nn.CrossEntropyLoss() \n",
    "\n",
    "# Defining Optimizer\n",
    "optimizer = torch.optim.Adam(model.parameters(), lr= config['init_lr']) \n",
    "# Later: Define Scheduler for Learning Rate,\n",
    "\n",
    "# Later: Mixed Precision Training"
   ]
  },
  {
   "cell_type": "markdown",
   "metadata": {
    "id": "IBwunYpyugFg"
   },
   "source": [
    "# Training and Validation Functions"
   ]
  },
  {
   "cell_type": "code",
   "execution_count": 13,
   "metadata": {
    "execution": {
     "iopub.execute_input": "2025-01-15T13:49:48.281229Z",
     "iopub.status.busy": "2025-01-15T13:49:48.280688Z",
     "iopub.status.idle": "2025-01-15T13:49:48.470313Z",
     "shell.execute_reply": "2025-01-15T13:49:48.469322Z",
     "shell.execute_reply.started": "2025-01-15T13:49:48.281204Z"
    },
    "id": "XblOHEVtKab2",
    "trusted": true
   },
   "outputs": [
    {
     "data": {
      "text/plain": [
       "107"
      ]
     },
     "execution_count": 13,
     "metadata": {},
     "output_type": "execute_result"
    }
   ],
   "source": [
    "torch.cuda.empty_cache()\n",
    "gc.collect()"
   ]
  },
  {
   "cell_type": "code",
   "execution_count": 31,
   "metadata": {
    "execution": {
     "iopub.execute_input": "2025-01-15T14:01:45.573302Z",
     "iopub.status.busy": "2025-01-15T14:01:45.572996Z",
     "iopub.status.idle": "2025-01-15T14:01:45.581472Z",
     "shell.execute_reply": "2025-01-15T14:01:45.580609Z",
     "shell.execute_reply.started": "2025-01-15T14:01:45.573278Z"
    },
    "id": "8wjPz7DHqKcL",
    "trusted": true
   },
   "outputs": [],
   "source": [
    "def train(model, dataloader, optimizer, criterion):\n",
    "\n",
    "    model.train()\n",
    "    tloss, tacc = 0, 0 # Monitoring loss and accuracy\n",
    "    batch_bar   = tqdm(total=len(train_loader), dynamic_ncols=True, leave=False, position=0, desc='Train')\n",
    "\n",
    "    for i, (frames, phonemes) in enumerate(dataloader):\n",
    "\n",
    "        ### Initialize Gradients\n",
    "        optimizer.zero_grad()\n",
    "\n",
    "        ### Move Data to Device (Ideally GPU)\n",
    "        frames      = frames.to(device)\n",
    "        phonemes    = phonemes.to(device)\n",
    "\n",
    "        ### Forward Propagation\n",
    "        logits  = model(frames)\n",
    "\n",
    "        ### Loss Calculation\n",
    "        loss    = criterion(logits, phonemes)\n",
    "\n",
    "        ### Backward Propagation\n",
    "        loss.backward()\n",
    "        optimizer.step()\n",
    "\n",
    "        tloss   += loss.item()\n",
    "        tacc    += torch.sum(torch.argmax(logits, dim= 1) == phonemes).item()/logits.shape[0]\n",
    "\n",
    "        batch_bar.set_postfix(loss=\"{:.04f}\".format(float(tloss / (i + 1))),\n",
    "                              acc=\"{:.04f}%\".format(float(tacc*100 / (i + 1))))\n",
    "        \n",
    "        batch_bar.update()\n",
    "\n",
    "        ### Release memory\n",
    "        del frames, phonemes, logits\n",
    "        torch.cuda.empty_cache()\n",
    "\n",
    "    batch_bar.close()\n",
    "    tloss   /= len(train_loader)\n",
    "    tacc    /= len(train_loader)\n",
    "\n",
    "    return tloss, tacc"
   ]
  },
  {
   "cell_type": "code",
   "execution_count": 32,
   "metadata": {
    "execution": {
     "iopub.execute_input": "2025-01-15T14:01:55.129484Z",
     "iopub.status.busy": "2025-01-15T14:01:55.129180Z",
     "iopub.status.idle": "2025-01-15T14:01:55.136654Z",
     "shell.execute_reply": "2025-01-15T14:01:55.135822Z",
     "shell.execute_reply.started": "2025-01-15T14:01:55.129459Z"
    },
    "id": "Q5npQNFH315V",
    "trusted": true
   },
   "outputs": [],
   "source": [
    "def eval(model, dataloader):\n",
    "\n",
    "    model.eval() # set model in evaluation mode\n",
    "    vloss, vacc = 0, 0 # Monitoring loss and accuracy\n",
    "    batch_bar   = tqdm(total=len(val_loader), dynamic_ncols=True, position=0, leave=False, desc='Val')\n",
    "\n",
    "    for i, (frames, phonemes) in enumerate(dataloader):\n",
    "\n",
    "        ### Move data to device (ideally GPU)\n",
    "        frames      = frames.to(device)\n",
    "        phonemes    = phonemes.to(device)\n",
    "\n",
    "        # makes sure that there are no gradients computed as we are not training the model now\n",
    "        with torch.inference_mode():\n",
    "            ### Forward Propagation\n",
    "            logits  = model(frames)\n",
    "            ### Loss Calculation\n",
    "            loss    = criterion(logits, phonemes)\n",
    "\n",
    "        vloss   += loss.item()\n",
    "        vacc    += torch.sum(torch.argmax(logits, dim= 1) == phonemes).item()/logits.shape[0]\n",
    "\n",
    "        batch_bar.set_postfix(loss=\"{:.04f}\".format(float(vloss / (i + 1))),\n",
    "                              acc=\"{:.04f}%\".format(float(vacc*100 / (i + 1))))\n",
    "        batch_bar.update()\n",
    "\n",
    "        ### Release memory\n",
    "        del frames, phonemes, logits\n",
    "        torch.cuda.empty_cache()\n",
    "\n",
    "    batch_bar.close()\n",
    "    vloss   /= len(val_loader)\n",
    "    vacc    /= len(val_loader)\n",
    "\n",
    "    return vloss, vacc"
   ]
  },
  {
   "cell_type": "markdown",
   "metadata": {
    "id": "yMd_XxPku5qp"
   },
   "source": [
    "# Weights and Biases Setup"
   ]
  },
  {
   "cell_type": "code",
   "execution_count": 33,
   "metadata": {
    "execution": {
     "iopub.execute_input": "2025-01-15T14:01:57.166814Z",
     "iopub.status.busy": "2025-01-15T14:01:57.166460Z",
     "iopub.status.idle": "2025-01-15T14:01:57.171065Z",
     "shell.execute_reply": "2025-01-15T14:01:57.170386Z",
     "shell.execute_reply.started": "2025-01-15T14:01:57.166784Z"
    },
    "id": "SCDYx5VEu6qI",
    "trusted": true
   },
   "outputs": [],
   "source": [
    "# wandb.login(key=input(\"Please enter your wandb API key: \")) "
   ]
  },
  {
   "cell_type": "code",
   "execution_count": 35,
   "metadata": {
    "execution": {
     "iopub.execute_input": "2025-01-15T14:01:59.309382Z",
     "iopub.status.busy": "2025-01-15T14:01:59.309020Z",
     "iopub.status.idle": "2025-01-15T14:01:59.317999Z",
     "shell.execute_reply": "2025-01-15T14:01:59.317274Z",
     "shell.execute_reply.started": "2025-01-15T14:01:59.309351Z"
    },
    "id": "wft15E_IxYFi",
    "trusted": true
   },
   "outputs": [
    {
     "data": {
      "text/plain": [
       "['/kaggle/working/wandb/run-20250115_135920-0fwrr7v4/files/model_arch.txt']"
      ]
     },
     "execution_count": 35,
     "metadata": {},
     "output_type": "execute_result"
    }
   ],
   "source": [
    "model_arch  = str(model)\n",
    "\n",
    "arch_file   = open(\"model_arch.txt\", \"w\")\n",
    "file_write  = arch_file.write(model_arch)\n",
    "arch_file.close()\n",
    "\n",
    "wandb.save('model_arch.txt')"
   ]
  },
  {
   "cell_type": "markdown",
   "metadata": {
    "id": "nclx_04fu7Dd"
   },
   "source": [
    "# Experiment"
   ]
  },
  {
   "cell_type": "markdown",
   "metadata": {
    "id": "MdLMWfEpyGOB"
   },
   "source": [
    "Finally, we run our abilations!"
   ]
  },
  {
   "cell_type": "code",
   "execution_count": 36,
   "metadata": {
    "execution": {
     "iopub.execute_input": "2025-01-15T14:02:00.695795Z",
     "iopub.status.busy": "2025-01-15T14:02:00.695451Z",
     "iopub.status.idle": "2025-01-15T14:25:19.237342Z",
     "shell.execute_reply": "2025-01-15T14:25:19.236191Z",
     "shell.execute_reply.started": "2025-01-15T14:02:00.695765Z"
    },
    "id": "MG4F77Nm0Am9",
    "trusted": true
   },
   "outputs": [
    {
     "name": "stdout",
     "output_type": "stream",
     "text": [
      "\n",
      "Epoch 1/2\n"
     ]
    },
    {
     "data": {
      "application/vnd.jupyter.widget-view+json": {
       "model_id": "",
       "version_major": 2,
       "version_minor": 0
      },
      "text/plain": [
       "Train:   0%|          | 0/35246 [00:00<?, ?it/s]"
      ]
     },
     "metadata": {},
     "output_type": "display_data"
    },
    {
     "data": {
      "application/vnd.jupyter.widget-view+json": {
       "model_id": "",
       "version_major": 2,
       "version_minor": 0
      },
      "text/plain": [
       "Val:   0%|          | 0/1884 [00:00<?, ?it/s]"
      ]
     },
     "metadata": {},
     "output_type": "display_data"
    },
    {
     "name": "stdout",
     "output_type": "stream",
     "text": [
      "\tTrain Acc 67.9878%\tTrain Loss 1.0398\t Learning Rate 0.0010000\n",
      "\tVal Acc 67.8519%\tVal Loss 1.0405\n",
      "\n",
      "Epoch 2/2\n"
     ]
    },
    {
     "data": {
      "application/vnd.jupyter.widget-view+json": {
       "model_id": "",
       "version_major": 2,
       "version_minor": 0
      },
      "text/plain": [
       "Train:   0%|          | 0/35246 [00:00<?, ?it/s]"
      ]
     },
     "metadata": {},
     "output_type": "display_data"
    },
    {
     "data": {
      "application/vnd.jupyter.widget-view+json": {
       "model_id": "",
       "version_major": 2,
       "version_minor": 0
      },
      "text/plain": [
       "Val:   0%|          | 0/1884 [00:00<?, ?it/s]"
      ]
     },
     "metadata": {},
     "output_type": "display_data"
    },
    {
     "name": "stdout",
     "output_type": "stream",
     "text": [
      "\tTrain Acc 69.8019%\tTrain Loss 0.9773\t Learning Rate 0.0010000\n",
      "\tVal Acc 68.7171%\tVal Loss 1.0104\n"
     ]
    }
   ],
   "source": [
    "# Iterate over number of epochs to train and evaluate model\n",
    "torch.cuda.empty_cache()\n",
    "gc.collect()\n",
    "wandb.watch(model, log=\"all\")\n",
    "\n",
    "for epoch in range(config['epochs']):\n",
    "\n",
    "    print(\"\\nEpoch {}/{}\".format(epoch+1, config['epochs']))\n",
    "\n",
    "    curr_lr                 = float(optimizer.param_groups[0]['lr'])\n",
    "    train_loss, train_acc   = train(model, train_loader, optimizer, criterion)\n",
    "    val_loss, val_acc       = eval(model, val_loader)\n",
    "\n",
    "    print(\"\\tTrain Acc {:.04f}%\\tTrain Loss {:.04f}\\t Learning Rate {:.07f}\".format(train_acc*100, train_loss, curr_lr))\n",
    "    print(\"\\tVal Acc {:.04f}%\\tVal Loss {:.04f}\".format(val_acc*100, val_loss))\n",
    "\n",
    "    ### Log metrics at each epoch\n",
    "    wandb.log({'train_acc': train_acc*100, 'train_loss': train_loss,\n",
    "               'val_acc': val_acc*100, 'valid_loss': val_loss, 'lr': curr_lr})\n"
   ]
  }
 ],
 "metadata": {
  "accelerator": "GPU",
  "colab": {
   "machine_shape": "hm",
   "provenance": []
  },
  "gpuClass": "standard",
  "kaggle": {
   "accelerator": "gpu",
   "dataSources": [
    {
     "databundleVersionId": 8695879,
     "sourceId": 80670,
     "sourceType": "competition"
    }
   ],
   "isGpuEnabled": true,
   "isInternetEnabled": true,
   "language": "python",
   "sourceType": "notebook"
  },
  "kernelspec": {
   "display_name": "Python 3",
   "language": "python",
   "name": "python3"
  },
  "language_info": {
   "codemirror_mode": {
    "name": "ipython",
    "version": 3
   },
   "file_extension": ".py",
   "mimetype": "text/x-python",
   "name": "python",
   "nbconvert_exporter": "python",
   "pygments_lexer": "ipython3",
   "version": "3.10.12"
  },
  "vscode": {
   "interpreter": {
    "hash": "b0fa6594d8f4cbf19f97940f81e996739fb7646882a419484c72d19e05852a7e"
   }
  }
 },
 "nbformat": 4,
 "nbformat_minor": 4
}
